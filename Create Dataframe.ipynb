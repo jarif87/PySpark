{
 "cells": [
  {
   "cell_type": "code",
   "execution_count": 0,
   "metadata": {
    "application/vnd.databricks.v1+cell": {
     "cellMetadata": {
      "byteLimit": 2048000,
      "rowLimit": 10000
     },
     "inputWidgets": {},
     "nuid": "36a5b6ab-412e-48b7-9e98-e7b7cc9c324c",
     "showTitle": false,
     "tableResultSettingsMap": {},
     "title": ""
    }
   },
   "outputs": [
    {
     "output_type": "stream",
     "name": "stdout",
     "output_type": "stream",
     "text": [
      "Collecting findspark\r\n  Downloading findspark-2.0.1-py2.py3-none-any.whl (4.4 kB)\r\nInstalling collected packages: findspark\r\nSuccessfully installed findspark-2.0.1\r\n\u001B[33mWARNING: You are using pip version 21.2.4; however, version 24.3.1 is available.\r\nYou should consider upgrading via the '/local_disk0/.ephemeral_nfs/envs/pythonEnv-bb75b7d0-43da-4ba8-94b2-641a41989ff5/bin/python -m pip install --upgrade pip' command.\u001B[0m\r\n"
     ]
    }
   ],
   "source": [
    "! pip install findspark\n"
   ]
  },
  {
   "cell_type": "code",
   "execution_count": 0,
   "metadata": {
    "application/vnd.databricks.v1+cell": {
     "cellMetadata": {
      "byteLimit": 2048000,
      "rowLimit": 10000
     },
     "inputWidgets": {},
     "nuid": "5f0a88ab-787d-47be-8e86-c5e1904bd41e",
     "showTitle": false,
     "tableResultSettingsMap": {},
     "title": ""
    }
   },
   "outputs": [
    {
     "output_type": "stream",
     "name": "stdout",
     "output_type": "stream",
     "text": [
      "root\n |-- name: string (nullable = true)\n |-- day: string (nullable = true)\n |-- month: string (nullable = true)\n |-- year: string (nullable = true)\n\n"
     ]
    }
   ],
   "source": [
    "import findspark\n",
    "findspark.init()\n",
    "\n",
    "import pyspark\n",
    "from pyspark.sql import *\n",
    "from pyspark.sql.functions import *\n",
    "from pyspark.sql.types import *\n",
    "\n",
    "spark = SparkSession.builder \\\n",
    "            .master(\"local[3]\") \\\n",
    "            .appName(\"MiscDemo\") \\\n",
    "            .getOrCreate()\n",
    "\n",
    "data_list = [(\"Ravi\", \"28\", \"1\", \"2002\"),\n",
    "             (\"Abdul\", \"23\", \"5\", \"81\"), # 1981\n",
    "             (\"John\", \"12\", \"12\", \"6\"), # 2006\n",
    "             (\"Rosy\", \"7\", \"8\", \"63\"), # 1963\n",
    "             (\"Abdul\", \"23\", \"5\", \"81\") # 1981\n",
    "            ]\n",
    "raw_df = spark.createDataFrame(data_list).toDF(\"name\", \"day\", \"month\", \"year\").repartition(3)\n",
    "raw_df.printSchema()"
   ]
  },
  {
   "cell_type": "code",
   "execution_count": 0,
   "metadata": {
    "application/vnd.databricks.v1+cell": {
     "cellMetadata": {
      "byteLimit": 2048000,
      "rowLimit": 10000
     },
     "inputWidgets": {},
     "nuid": "e7d5cb99-5767-45fd-9bda-10610332fe66",
     "showTitle": false,
     "tableResultSettingsMap": {},
     "title": ""
    }
   },
   "outputs": [
    {
     "output_type": "stream",
     "name": "stdout",
     "output_type": "stream",
     "text": [
      "+-----+---+-----+----+-----------+\n| name|day|month|year|         id|\n+-----+---+-----+----+-----------+\n|Abdul| 23|    5|  81|          0|\n| Rosy|  7|    8|  63|          1|\n| Ravi| 28|    1|2002| 8589934592|\n| John| 12|   12|   6|17179869184|\n|Abdul| 23|    5|  81|17179869185|\n+-----+---+-----+----+-----------+\n\n"
     ]
    }
   ],
   "source": [
    "df1 = raw_df.withColumn(\"id\", monotonically_increasing_id())\n",
    "df1.show()"
   ]
  },
  {
   "cell_type": "code",
   "execution_count": 0,
   "metadata": {
    "application/vnd.databricks.v1+cell": {
     "cellMetadata": {
      "byteLimit": 2048000,
      "rowLimit": 10000
     },
     "inputWidgets": {},
     "nuid": "5683bc23-a9d2-4af7-a19c-2b060c84b5c1",
     "showTitle": false,
     "tableResultSettingsMap": {},
     "title": ""
    }
   },
   "outputs": [
    {
     "output_type": "stream",
     "name": "stdout",
     "output_type": "stream",
     "text": [
      "+-----+---+-----+------+-----------+\n| name|day|month|  year|         id|\n+-----+---+-----+------+-----------+\n|Abdul| 23|    5|1981.0|          0|\n| Rosy|  7|    8|1963.0|          1|\n| Ravi| 28|    1|  2002| 8589934592|\n| John| 12|   12|2006.0|17179869184|\n|Abdul| 23|    5|1981.0|17179869185|\n+-----+---+-----+------+-----------+\n\n"
     ]
    }
   ],
   "source": [
    "df2 = df1.withColumn(\"year\", expr(\"\"\"\n",
    "         case when year < 21 then year + 2000\n",
    "         when year < 100 then year + 1900\n",
    "         else year\n",
    "         end\"\"\"))\n",
    "df2.show()"
   ]
  },
  {
   "cell_type": "code",
   "execution_count": 0,
   "metadata": {
    "application/vnd.databricks.v1+cell": {
     "cellMetadata": {
      "byteLimit": 2048000,
      "rowLimit": 10000
     },
     "inputWidgets": {},
     "nuid": "33e4af69-f691-4b3f-973d-d7d45ed7c654",
     "showTitle": false,
     "tableResultSettingsMap": {},
     "title": ""
    }
   },
   "outputs": [
    {
     "output_type": "stream",
     "name": "stdout",
     "output_type": "stream",
     "text": [
      "+-----+---+-----+----+-----------+\n| name|day|month|year|         id|\n+-----+---+-----+----+-----------+\n|Abdul| 23|    5|1981|          0|\n| Rosy|  7|    8|1963|          1|\n| Ravi| 28|    1|2002| 8589934592|\n| John| 12|   12|2006|17179869184|\n|Abdul| 23|    5|1981|17179869185|\n+-----+---+-----+----+-----------+\n\n"
     ]
    }
   ],
   "source": [
    "df3 = df1.withColumn(\"year\", expr(\"\"\"\n",
    "         case when year < 21 then cast(year as int) + 2000\n",
    "         when year < 100 then cast(year as int) + 1900\n",
    "         else year\n",
    "         end\"\"\"))\n",
    "df3.show()"
   ]
  },
  {
   "cell_type": "code",
   "execution_count": 0,
   "metadata": {
    "application/vnd.databricks.v1+cell": {
     "cellMetadata": {
      "byteLimit": 2048000,
      "rowLimit": 10000
     },
     "inputWidgets": {},
     "nuid": "74654ed5-0265-4271-b1e2-247c510f374a",
     "showTitle": false,
     "tableResultSettingsMap": {},
     "title": ""
    }
   },
   "outputs": [
    {
     "output_type": "stream",
     "name": "stdout",
     "output_type": "stream",
     "text": [
      "+-----+---+-----+----+-----------+\n| name|day|month|year|         id|\n+-----+---+-----+----+-----------+\n|Abdul| 23|    5|1981|          0|\n| Rosy|  7|    8|1963|          1|\n| Ravi| 28|    1|2002| 8589934592|\n| John| 12|   12|2006|17179869184|\n|Abdul| 23|    5|1981|17179869185|\n+-----+---+-----+----+-----------+\n\nroot\n |-- name: string (nullable = true)\n |-- day: string (nullable = true)\n |-- month: string (nullable = true)\n |-- year: integer (nullable = true)\n |-- id: long (nullable = false)\n\n"
     ]
    }
   ],
   "source": [
    "df4 = df1.withColumn(\"year\", expr(\"\"\"\n",
    "         case when year < 21 then year + 2000\n",
    "         when year < 100 then year + 1900\n",
    "         else year\n",
    "         end\"\"\").cast(IntegerType()))\n",
    "df4.show()\n",
    "df4.printSchema()"
   ]
  },
  {
   "cell_type": "code",
   "execution_count": 0,
   "metadata": {
    "application/vnd.databricks.v1+cell": {
     "cellMetadata": {
      "byteLimit": 2048000,
      "rowLimit": 10000
     },
     "inputWidgets": {},
     "nuid": "b0d6fa04-f617-432e-ab94-52f704065583",
     "showTitle": false,
     "tableResultSettingsMap": {},
     "title": ""
    }
   },
   "outputs": [
    {
     "output_type": "stream",
     "name": "stdout",
     "output_type": "stream",
     "text": [
      "+-----+---+-----+----+-----------+\n| name|day|month|year|         id|\n+-----+---+-----+----+-----------+\n|Abdul| 23|    5|1981|          0|\n| Rosy|  7|    8|1963|          1|\n| Ravi| 28|    1|2002| 8589934592|\n| John| 12|   12|2006|17179869184|\n|Abdul| 23|    5|1981|17179869185|\n+-----+---+-----+----+-----------+\n\n"
     ]
    }
   ],
   "source": [
    "df5 = df1.withColumn(\"day\", col(\"day\").cast(IntegerType())) \\\n",
    "         .withColumn(\"month\", col(\"month\").cast(IntegerType())) \\\n",
    "         .withColumn(\"year\", col(\"year\").cast(IntegerType())) \n",
    "\n",
    "df6 = df5.withColumn(\"year\", expr(\"\"\"\n",
    "          case when year < 21 then year + 2000\n",
    "          when year < 100 then year + 1900\n",
    "          else year\n",
    "          end\"\"\"))\n",
    "df6.show()"
   ]
  },
  {
   "cell_type": "code",
   "execution_count": 0,
   "metadata": {
    "application/vnd.databricks.v1+cell": {
     "cellMetadata": {
      "byteLimit": 2048000,
      "rowLimit": 10000
     },
     "inputWidgets": {},
     "nuid": "e78a5c29-4238-456b-965e-bb5c62fa6689",
     "showTitle": false,
     "tableResultSettingsMap": {},
     "title": ""
    }
   },
   "outputs": [
    {
     "output_type": "stream",
     "name": "stdout",
     "output_type": "stream",
     "text": [
      "+-----+---+-----+----+-----------+\n| name|day|month|year|         id|\n+-----+---+-----+----+-----------+\n|Abdul| 23|    5|1981|          0|\n| Rosy|  7|    8|1963|          1|\n| Ravi| 28|    1|2002| 8589934592|\n| John| 12|   12|2006|17179869184|\n|Abdul| 23|    5|1981|17179869185|\n+-----+---+-----+----+-----------+\n\n"
     ]
    }
   ],
   "source": [
    "df7 = df5.withColumn(\"year\", \\\n",
    "                    when(col(\"year\") < 21, col(\"year\") + 2000) \\\n",
    "                    .when(col(\"year\") < 100, col(\"year\") + 1900) \\\n",
    "                    .otherwise(col(\"year\")))\n",
    "df7.show()"
   ]
  },
  {
   "cell_type": "code",
   "execution_count": 0,
   "metadata": {
    "application/vnd.databricks.v1+cell": {
     "cellMetadata": {
      "byteLimit": 2048000,
      "rowLimit": 10000
     },
     "inputWidgets": {},
     "nuid": "77697886-2174-4074-a43c-e9728e4bca18",
     "showTitle": false,
     "tableResultSettingsMap": {},
     "title": ""
    }
   },
   "outputs": [
    {
     "output_type": "stream",
     "name": "stdout",
     "output_type": "stream",
     "text": [
      "+-----+---+-----+----+-----------+----------+\n| name|day|month|year|         id|       dob|\n+-----+---+-----+----+-----------+----------+\n|Abdul| 23|    5|1981|          0|1981-05-23|\n| Rosy|  7|    8|1963|          1|1963-08-07|\n| Ravi| 28|    1|2002| 8589934592|2002-01-28|\n| John| 12|   12|2006|17179869184|2006-12-12|\n|Abdul| 23|    5|1981|17179869185|1981-05-23|\n+-----+---+-----+----+-----------+----------+\n\n"
     ]
    }
   ],
   "source": [
    "df8 = df7.withColumn(\"dob\", expr(\"to_date(concat(day,'/',month,'/',year), 'd/M/y')\"))\n",
    "df8.show()"
   ]
  },
  {
   "cell_type": "code",
   "execution_count": 0,
   "metadata": {
    "application/vnd.databricks.v1+cell": {
     "cellMetadata": {
      "byteLimit": 2048000,
      "rowLimit": 10000
     },
     "inputWidgets": {},
     "nuid": "5e6e3521-fe63-4c93-8b17-326c0a731f22",
     "showTitle": false,
     "tableResultSettingsMap": {},
     "title": ""
    }
   },
   "outputs": [
    {
     "output_type": "stream",
     "name": "stdout",
     "output_type": "stream",
     "text": [
      "+-----+-----------+----------+\n| name|         id|       dob|\n+-----+-----------+----------+\n| Rosy|          1|1963-08-07|\n|Abdul|          0|1981-05-23|\n| Ravi| 8589934592|2002-01-28|\n| John|17179869184|2006-12-12|\n+-----+-----------+----------+\n\n"
     ]
    }
   ],
   "source": [
    "df9 = df7.withColumn(\"dob\", to_date(expr(\"concat(day,'/',month,'/',year)\"), 'd/M/y')) \\\n",
    "         .drop(\"day\", \"month\", \"year\") \\\n",
    "         .dropDuplicates([\"name\", \"dob\"]) \\\n",
    "         .sort(expr(\"dob desc\"))\n",
    "df9.show()"
   ]
  },
  {
   "cell_type": "code",
   "execution_count": 0,
   "metadata": {
    "application/vnd.databricks.v1+cell": {
     "cellMetadata": {},
     "inputWidgets": {},
     "nuid": "105ca44c-5e3c-4501-9dd0-3960ce4ce384",
     "showTitle": false,
     "tableResultSettingsMap": {},
     "title": ""
    }
   },
   "outputs": [],
   "source": []
  }
 ],
 "metadata": {
  "application/vnd.databricks.v1+notebook": {
   "dashboards": [],
   "environmentMetadata": null,
   "language": "python",
   "notebookMetadata": {
    "pythonIndentUnit": 2
   },
   "notebookName": "Create Dataframe",
   "widgets": {}
  }
 },
 "nbformat": 4,
 "nbformat_minor": 0
}
